{
  "metadata": {
    "language_info": {
      "codemirror_mode": {
        "name": "python",
        "version": 3
      },
      "file_extension": ".py",
      "mimetype": "text/x-python",
      "name": "python",
      "nbconvert_exporter": "python",
      "pygments_lexer": "ipython3",
      "version": "3.8"
    },
    "kernelspec": {
      "name": "python",
      "display_name": "Python (Pyodide)",
      "language": "python"
    }
  },
  "nbformat_minor": 4,
  "nbformat": 4,
  "cells": [
    {
      "cell_type": "markdown",
      "source": "\"My Jupyter Notebook on IBM Watson studio\"",
      "metadata": {}
    },
    {
      "cell_type": "markdown",
      "source": "AJAY CHILKA\nSTUDENT\n",
      "metadata": {}
    },
    {
      "cell_type": "markdown",
      "source": "I am intersted in data science because i like to explore data",
      "metadata": {}
    },
    {
      "cell_type": "markdown",
      "source": "Addition of two numbers with variables 'A' and 'B'",
      "metadata": {}
    },
    {
      "cell_type": "code",
      "source": "A=1\nB=1\nprint(A+B)\n",
      "metadata": {
        "trusted": true
      },
      "execution_count": 14,
      "outputs": [
        {
          "name": "stdout",
          "text": "2\n",
          "output_type": "stream"
        }
      ]
    },
    {
      "cell_type": "markdown",
      "source": "|header1|header2|\n|------|------|\n|cell|cell2|",
      "metadata": {}
    },
    {
      "cell_type": "markdown",
      "source": "- this is bullet\n* this is bullet",
      "metadata": {}
    },
    {
      "cell_type": "markdown",
      "source": "> this is ajay",
      "metadata": {}
    },
    {
      "cell_type": "markdown",
      "source": "link without a text",
      "metadata": {}
    },
    {
      "cell_type": "markdown",
      "source": "http:://datascience.com",
      "metadata": {}
    },
    {
      "cell_type": "markdown",
      "source": "![](flower.jpeg)",
      "metadata": {}
    },
    {
      "cell_type": "code",
      "source": "",
      "metadata": {},
      "execution_count": null,
      "outputs": []
    }
  ]
}